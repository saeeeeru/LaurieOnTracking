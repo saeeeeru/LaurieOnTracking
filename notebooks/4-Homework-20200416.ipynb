{
 "nbformat": 4,
 "nbformat_minor": 2,
 "metadata": {
  "language_info": {
   "name": "python",
   "codemirror_mode": {
    "name": "ipython",
    "version": 3
   },
   "version": "3.6.0-final"
  },
  "orig_nbformat": 2,
  "file_extension": ".py",
  "mimetype": "text/x-python",
  "name": "python",
  "npconvert_exporter": "python",
  "pygments_lexer": "ipython3",
  "version": 3,
  "kernelspec": {
   "name": "python36064bitpy36conda3ff1ef800910494ca5c265a70a3bf713",
   "display_name": "Python 3.6.0 64-bit ('py36': conda)"
  }
 },
 "cells": [
  {
   "cell_type": "markdown",
   "metadata": {},
   "source": [
    "table of contents[「Delving deeper into the tracking data with python: measuring the physical performance of players.」](https://www.youtube.com/watch?v=VX3T-4lB2o0)  \n",
    "1. Prepare  \n",
    "2. Read Dataset, and Preprocess  \n",
    "3. Extimate the top speed of each player  \n",
    "4. Measure player acceleration from the tracking data and extimate the maximum rate of acceleration for each player"
   ]
  },
  {
   "cell_type": "markdown",
   "metadata": {},
   "source": [
    "# Prepare"
   ]
  },
  {
   "cell_type": "markdown",
   "metadata": {},
   "source": [
    "## Import Library"
   ]
  },
  {
   "cell_type": "code",
   "execution_count": 1,
   "metadata": {},
   "outputs": [],
   "source": [
    "import os, time, sys\n",
    "from datetime import datetime, date\n",
    "from tqdm import tqdm\n",
    "\n",
    "import numpy as np\n",
    "import pandas as pd\n",
    "import matplotlib.pyplot as plt\n",
    "\n",
    "cmap = plt.get_cmap('tab10')\n",
    "%matplotlib inline\n",
    "\n",
    "sys.path.append(os.path.join('..','src'))\n",
    "import Metrica_IO as mio\n",
    "import Metrica_Viz as mviz\n",
    "import Metrica_Velocities as mvel"
   ]
  },
  {
   "cell_type": "markdown",
   "metadata": {},
   "source": [
    "## Setting static parameter"
   ]
  },
  {
   "cell_type": "code",
   "execution_count": 2,
   "metadata": {},
   "outputs": [],
   "source": [
    "base_dir = os.path.join('..')\n",
    "data_dir = os.path.join(base_dir, '..', 'sample-data', 'data')\n",
    "\n",
    "game_id = 2"
   ]
  },
  {
   "cell_type": "markdown",
   "metadata": {},
   "source": [
    "# Read Dataset, and Preprocess"
   ]
  },
  {
   "cell_type": "code",
   "execution_count": 3,
   "metadata": {},
   "outputs": [
    {
     "output_type": "stream",
     "name": "stdout",
     "text": "Reading team: home\nReading team: away\n"
    }
   ],
   "source": [
    "# Read Daset\n",
    "events_df = mio.read_event_data(data_dir, game_id)\n",
    "tracking_home_df = mio.tracking_data(data_dir, game_id, 'Home')\n",
    "tracking_away_df = mio.tracking_data(data_dir, game_id, 'Away')\n",
    "\n",
    "# convert positions\n",
    "events_df = mio.to_metric_coordinates(events_df)\n",
    "tracking_home_df = mio.to_metric_coordinates(tracking_home_df)\n",
    "tracking_away_df = mio.to_metric_coordinates(tracking_away_df)\n",
    "\n",
    "# rebase direction\n",
    "tracking_home_df, tracking_away_df, events_df = mio.to_single_playing_direction(tracking_home_df, tracking_away_df, events_df)\n",
    "\n",
    "# calculate player Velocities\n",
    "tracking_home_df = mvel.calc_player_velocities(tracking_home_df, smoothing=True, filter_='moving average')\n",
    "tracking_away_df = mvel.calc_player_velocities(tracking_away_df, smoothing=True, filter_='moving average')"
   ]
  },
  {
   "cell_type": "markdown",
   "metadata": {},
   "source": [
    "# Estimate Top Speed of each player"
   ]
  },
  {
   "cell_type": "code",
   "execution_count": 15,
   "metadata": {},
   "outputs": [
    {
     "output_type": "execute_result",
     "data": {
      "text/plain": "Home_1_speed     10.489778\nHome_10_speed    10.288222\nHome_11_speed     9.953195\nHome_12_speed    10.431469\nHome_13_speed     8.843432\nHome_14_speed     9.809842\nHome_2_speed      9.440066\nHome_3_speed     10.250773\nHome_4_speed     10.584901\nHome_5_speed     11.039276\nHome_6_speed      9.492950\nHome_7_speed      8.624472\nHome_8_speed     11.115750\nHome_9_speed      9.250738\ndtype: float64"
     },
     "metadata": {},
     "execution_count": 15
    }
   ],
   "source": [
    "tracking_home_df.filter(like='speed', axis=1).max()"
   ]
  },
  {
   "cell_type": "code",
   "execution_count": 16,
   "metadata": {},
   "outputs": [
    {
     "output_type": "execute_result",
     "data": {
      "text/plain": "Away_15_speed    11.421658\nAway_16_speed    11.077209\nAway_17_speed     9.663684\nAway_18_speed     9.962039\nAway_19_speed     9.768358\nAway_20_speed     9.207255\nAway_21_speed     8.238495\nAway_22_speed     8.761518\nAway_23_speed     8.929396\nAway_24_speed     9.734671\nAway_25_speed    10.686103\nAway_26_speed     9.007271\ndtype: float64"
     },
     "metadata": {},
     "execution_count": 16
    }
   ],
   "source": [
    "tracking_away_df.filter(like='speed', axis=1).max()"
   ]
  },
  {
   "cell_type": "markdown",
   "metadata": {},
   "source": [
    "# Measure Player Acceleration"
   ]
  },
  {
   "cell_type": "code",
   "execution_count": null,
   "metadata": {},
   "outputs": [],
   "source": []
  }
 ]
}